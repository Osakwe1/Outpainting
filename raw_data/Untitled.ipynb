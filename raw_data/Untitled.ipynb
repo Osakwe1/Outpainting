{
 "cells": [
  {
   "cell_type": "code",
   "execution_count": 4,
   "id": "2adf1fac",
   "metadata": {},
   "outputs": [],
   "source": [
    "import numpy as np # Array Processing\n",
    "from PIL import Image # To process the images\n",
    "import scipy.misc\n",
    "import matplotlib.pyplot as plt # View images\n",
    "import os #Operating System Interfaces\n",
    "import re #REGex\n",
    "#import imageio #Image processing package\n",
    "import tensorflow as tf \n",
    "from tensorflow import keras\n",
    "from tensorflow.keras import models, layers, optimizers, callbacks, Input\n",
    "from tensorflow.keras.models import Sequential\n",
    "from tensorflow.keras.layers import Dense, Reshape\n",
    "from PIL import Image\n",
    "import matplotlib.image as img"
   ]
  },
  {
   "cell_type": "code",
   "execution_count": 5,
   "id": "d63d5fc3",
   "metadata": {},
   "outputs": [
    {
     "ename": "FileNotFoundError",
     "evalue": "[Errno 2] No such file or directory: 'X.npy'",
     "output_type": "error",
     "traceback": [
      "\u001b[0;31m---------------------------------------------------------------------------\u001b[0m",
      "\u001b[0;31mFileNotFoundError\u001b[0m                         Traceback (most recent call last)",
      "Cell \u001b[0;32mIn [5], line 1\u001b[0m\n\u001b[0;32m----> 1\u001b[0m inarray_1 \u001b[38;5;241m=\u001b[39m \u001b[43mnp\u001b[49m\u001b[38;5;241;43m.\u001b[39;49m\u001b[43mload\u001b[49m\u001b[43m(\u001b[49m\u001b[38;5;124;43m\"\u001b[39;49m\u001b[38;5;124;43mX.npy\u001b[39;49m\u001b[38;5;124;43m\"\u001b[39;49m\u001b[43m)\u001b[49m\n",
      "File \u001b[0;32m~/.pyenv/versions/3.10.6/envs/Outpainting/lib/python3.10/site-packages/numpy/lib/npyio.py:405\u001b[0m, in \u001b[0;36mload\u001b[0;34m(file, mmap_mode, allow_pickle, fix_imports, encoding, max_header_size)\u001b[0m\n\u001b[1;32m    403\u001b[0m     own_fid \u001b[38;5;241m=\u001b[39m \u001b[38;5;28;01mFalse\u001b[39;00m\n\u001b[1;32m    404\u001b[0m \u001b[38;5;28;01melse\u001b[39;00m:\n\u001b[0;32m--> 405\u001b[0m     fid \u001b[38;5;241m=\u001b[39m stack\u001b[38;5;241m.\u001b[39menter_context(\u001b[38;5;28;43mopen\u001b[39;49m\u001b[43m(\u001b[49m\u001b[43mos_fspath\u001b[49m\u001b[43m(\u001b[49m\u001b[43mfile\u001b[49m\u001b[43m)\u001b[49m\u001b[43m,\u001b[49m\u001b[43m \u001b[49m\u001b[38;5;124;43m\"\u001b[39;49m\u001b[38;5;124;43mrb\u001b[39;49m\u001b[38;5;124;43m\"\u001b[39;49m\u001b[43m)\u001b[49m)\n\u001b[1;32m    406\u001b[0m     own_fid \u001b[38;5;241m=\u001b[39m \u001b[38;5;28;01mTrue\u001b[39;00m\n\u001b[1;32m    408\u001b[0m \u001b[38;5;66;03m# Code to distinguish from NumPy binary files and pickles.\u001b[39;00m\n",
      "\u001b[0;31mFileNotFoundError\u001b[0m: [Errno 2] No such file or directory: 'X.npy'"
     ]
    }
   ],
   "source": [
    "inarray_1 = np.load(\"X.npy\")"
   ]
  },
  {
   "cell_type": "code",
   "execution_count": null,
   "id": "9da2b0a1",
   "metadata": {},
   "outputs": [],
   "source": [
    "from tensorflow.python.framework.ops import disable_eager_execution\n",
    "disable_eager_execution()"
   ]
  },
  {
   "cell_type": "code",
   "execution_count": null,
   "id": "b105e648",
   "metadata": {},
   "outputs": [],
   "source": []
  },
  {
   "cell_type": "code",
   "execution_count": null,
   "id": "c3d47db7",
   "metadata": {},
   "outputs": [],
   "source": [
    "model=models.Sequential()\n",
    "\n",
    "model.add(layers.Conv2D(128, 5, input_shape=inarray_1.shape[1:], activation=\"relu\", strides=(1, 1), dilation_rate=1, padding=\"same\"))\n",
    "model.add(layers.Conv2D(128, 3, activation=\"relu\", strides=(2, 2), dilation_rate=1, padding=\"same\"))\n",
    "model.add(layers.Conv2D(256, 3, activation=\"relu\", strides=(1, 1), dilation_rate=1, padding=\"same\"))\n",
    "model.add(layers.Conv2D(256, 3, activation=\"relu\", strides=(1, 1), dilation_rate=2, padding=\"same\"))\n",
    "model.add(layers.Conv2D(256, 3, activation=\"relu\", strides=(1, 1), dilation_rate=4, padding=\"same\"))\n",
    "model.add(layers.Conv2D(256, 3, activation=\"relu\", strides=(1, 1), dilation_rate=8, padding=\"same\"))\n",
    "model.add(layers.Conv2DTranspose(256, 3, activation=\"relu\", strides=(2, 2), dilation_rate=1, padding=\"same\"))\n",
    "model.add(layers.Conv2D(128, 4, activation=\"relu\", strides=(1, 1), dilation_rate=1, padding=\"same\"))\n",
    "model.add(layers.Conv2D(3, 3, activation=\"sigmoid\", strides=(1, 1), dilation_rate=1, padding=\"same\"))\n",
    "model.summary()\n",
    "model.compile(loss='mse', optimizer = 'adam', metrics= ['accuracy'])"
   ]
  },
  {
   "cell_type": "code",
   "execution_count": null,
   "id": "bfeb723b",
   "metadata": {},
   "outputs": [],
   "source": [
    "import visualkeras\n",
    "from PIL import ImageFont\n",
    "visualkeras.layered_view(model, legend=True)"
   ]
  }
 ],
 "metadata": {
  "kernelspec": {
   "display_name": "Python 3 (ipykernel)",
   "language": "python",
   "name": "python3"
  },
  "language_info": {
   "codemirror_mode": {
    "name": "ipython",
    "version": 3
   },
   "file_extension": ".py",
   "mimetype": "text/x-python",
   "name": "python",
   "nbconvert_exporter": "python",
   "pygments_lexer": "ipython3",
   "version": "3.10.6"
  },
  "toc": {
   "base_numbering": 1,
   "nav_menu": {},
   "number_sections": true,
   "sideBar": true,
   "skip_h1_title": false,
   "title_cell": "Table of Contents",
   "title_sidebar": "Contents",
   "toc_cell": false,
   "toc_position": {},
   "toc_section_display": true,
   "toc_window_display": false
  }
 },
 "nbformat": 4,
 "nbformat_minor": 5
}
